{
 "cells": [
  {
   "cell_type": "code",
   "execution_count": 1,
   "metadata": {},
   "outputs": [
    {
     "name": "stderr",
     "output_type": "stream",
     "text": [
      "C:\\Users\\marci\\AppData\\Local\\Programs\\Python\\Python39\\lib\\site-packages\\numpy\\_distributor_init.py:30: UserWarning: loaded more than 1 DLL from .libs:\n",
      "C:\\Users\\marci\\AppData\\Local\\Programs\\Python\\Python39\\lib\\site-packages\\numpy\\.libs\\libopenblas.GK7GX5KEQ4F6UYO3P26ULGBQYHGQO7J4.gfortran-win_amd64.dll\n",
      "C:\\Users\\marci\\AppData\\Local\\Programs\\Python\\Python39\\lib\\site-packages\\numpy\\.libs\\libopenblas.XWYDX2IKJW2NMTWSFYNGFUWKQU3LYTCZ.gfortran-win_amd64.dll\n",
      "  warnings.warn(\"loaded more than 1 DLL from .libs:\"\n"
     ]
    }
   ],
   "source": [
    "from pyspark.sql import SparkSession\n",
    "from pyspark.sql.functions import col, explode\n",
    "\n",
    "\n",
    "#create spark session\n",
    "spark = SparkSession.builder.appName(\"test-py\").getOrCreate()"
   ]
  },
  {
   "cell_type": "markdown",
   "metadata": {},
   "source": [
    "Reading the multiline JSON"
   ]
  },
  {
   "cell_type": "code",
   "execution_count": 2,
   "metadata": {},
   "outputs": [],
   "source": [
    "df = spark.read.option(\"multiline\",\"true\")\\\n",
    "    .json(\"data.json\")"
   ]
  },
  {
   "cell_type": "markdown",
   "metadata": {},
   "source": [
    "Exploding the array into rows"
   ]
  },
  {
   "cell_type": "code",
   "execution_count": 4,
   "metadata": {},
   "outputs": [
    {
     "name": "stdout",
     "output_type": "stream",
     "text": [
      "+--------------------+--------+-------------------+-----+---------+------------+--------+-----+\n",
      "|          CreateDate|Discount|       EmissionDate|NFeID|NFeNumber| ProductName|Quantity|Value|\n",
      "+--------------------+--------+-------------------+-----+---------+------------+--------+-----+\n",
      "|2021-05-24T20:21:...|     0.0|2021-05-24T00:00:00|    1|      501|        Rice|       2|35.55|\n",
      "|2021-05-24T20:21:...|     0.0|2021-05-24T00:00:00|    1|      501|       Flour|       5|11.55|\n",
      "|2021-05-24T20:21:...|     0.0|2021-05-24T00:00:00|    1|      501|        Bean|       7|27.15|\n",
      "|2021-05-24T20:21:...|     0.0|2021-05-24T00:00:00|    2|      502|      Tomate|      10|12.25|\n",
      "|2021-05-24T20:21:...|     0.0|2021-05-24T00:00:00|    2|      502|       Pasta|       5| 7.55|\n",
      "|2021-05-24T20:21:...|     0.0|2021-05-24T00:00:00|    3|      503|        Beer|       6|  9.0|\n",
      "|2021-05-24T20:21:...|     0.0|2021-05-24T00:00:00|    3|      503|French fries|       2|10.99|\n",
      "|2021-05-24T20:21:...|     0.0|2021-05-24T00:00:00|    3|      503|   Ice cream|       1|27.15|\n",
      "+--------------------+--------+-------------------+-----+---------+------------+--------+-----+\n",
      "\n"
     ]
    }
   ],
   "source": [
    "df_items = df.withColumn(\"ItemList\", explode(\"ItemList\"))\\\n",
    "        .select(\"*\",col(\"ItemList\")['ProductName'].alias(\"ProductName\"),\\\n",
    "                    col(\"ItemList\")['Quantity'].alias(\"Quantity\"),\\\n",
    "                    col(\"ItemList\")['Value'].alias(\"Value\"))\\\n",
    "        .drop(\"ItemList\")\n",
    "\n",
    "df_items.show()"
   ]
  },
  {
   "cell_type": "markdown",
   "metadata": {},
   "source": [
    "Creating DataFrames with NFeID and NFeNumber as the keys"
   ]
  },
  {
   "cell_type": "code",
   "execution_count": 7,
   "metadata": {},
   "outputs": [
    {
     "name": "stdout",
     "output_type": "stream",
     "text": [
      "+-----+---------+------------+--------+-----+\n",
      "|NFeID|NFeNumber| ProductName|Quantity|Value|\n",
      "+-----+---------+------------+--------+-----+\n",
      "|    1|      501|        Rice|       2|35.55|\n",
      "|    1|      501|       Flour|       5|11.55|\n",
      "|    1|      501|        Bean|       7|27.15|\n",
      "|    2|      502|      Tomate|      10|12.25|\n",
      "|    2|      502|       Pasta|       5| 7.55|\n",
      "|    3|      503|        Beer|       6|  9.0|\n",
      "|    3|      503|French fries|       2|10.99|\n",
      "|    3|      503|   Ice cream|       1|27.15|\n",
      "+-----+---------+------------+--------+-----+\n",
      "\n"
     ]
    }
   ],
   "source": [
    "df_items = df.withColumn(\"ItemList\", explode(\"ItemList\"))\\\n",
    "        .select(\"NFeID\",\"NFeNumber\",col(\"ItemList\")['ProductName'].alias(\"ProductName\"),\\\n",
    "                                    col(\"ItemList\")['Quantity'].alias(\"Quantity\"),\\\n",
    "                                    col(\"ItemList\")['Value'].alias(\"Value\"))\\\n",
    "        .drop(\"ItemList\")\n",
    "\n",
    "df_items.show()"
   ]
  },
  {
   "cell_type": "code",
   "execution_count": 8,
   "metadata": {},
   "outputs": [
    {
     "name": "stdout",
     "output_type": "stream",
     "text": [
      "+--------------------+--------+-------------------+-----+---------+\n",
      "|          CreateDate|Discount|       EmissionDate|NFeID|NFeNumber|\n",
      "+--------------------+--------+-------------------+-----+---------+\n",
      "|2021-05-24T20:21:...|     0.0|2021-05-24T00:00:00|    1|      501|\n",
      "|2021-05-24T20:21:...|     0.0|2021-05-24T00:00:00|    2|      502|\n",
      "|2021-05-24T20:21:...|     0.0|2021-05-24T00:00:00|    3|      503|\n",
      "+--------------------+--------+-------------------+-----+---------+\n",
      "\n"
     ]
    }
   ],
   "source": [
    "df_dates = df.drop('ItemList')\n",
    "\n",
    "df_dates.show()"
   ]
  }
 ],
 "metadata": {
  "interpreter": {
   "hash": "6dadf3d67a9f61ca3644430f08819e32fec6fa70db69a7250c8697e177b14df7"
  },
  "kernelspec": {
   "display_name": "Python 3.9.4 64-bit",
   "language": "python",
   "name": "python3"
  },
  "language_info": {
   "codemirror_mode": {
    "name": "ipython",
    "version": 3
   },
   "file_extension": ".py",
   "mimetype": "text/x-python",
   "name": "python",
   "nbconvert_exporter": "python",
   "pygments_lexer": "ipython3",
   "version": "3.9.4"
  },
  "orig_nbformat": 4
 },
 "nbformat": 4,
 "nbformat_minor": 2
}
